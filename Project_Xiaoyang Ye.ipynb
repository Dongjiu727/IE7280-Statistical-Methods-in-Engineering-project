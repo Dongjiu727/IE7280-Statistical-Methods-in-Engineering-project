{
 "cells": [
  {
   "cell_type": "code",
   "execution_count": null,
   "metadata": {},
   "outputs": [],
   "source": [
    "Topic_1 \n",
    "Colon Cancer Data Analysis Using Logistic Regression model."
   ]
  },
  {
   "cell_type": "markdown",
   "metadata": {},
   "source": [
    "Colon cancer is a prevalent gastrointestinal malignancy worldwide [1]. Advances in diagnostic, prognostic, predictive, and treatment approaches have been explored. Understanding colon cancer features, especially gene expression patterns, is crucial for diagnosis and treatment. This project utilizes expression data from 2000 genes in 62 samples [2]. Challenges include sample contamination, high feature dimensionality, and a limited number of cases."
   ]
  },
  {
   "cell_type": "markdown",
   "metadata": {},
   "source": [
    "•Aim 1: Identify significant genes for regression inputs by comparing expression levels between carcinoma and normal tissues, thus pinpointing predictive markers."
   ]
  },
  {
   "cell_type": "markdown",
   "metadata": {},
   "source": [
    "1. Load and check the data"
   ]
  },
  {
   "cell_type": "markdown",
   "metadata": {},
   "source": []
  }
 ],
 "metadata": {
  "language_info": {
   "name": "python"
  }
 },
 "nbformat": 4,
 "nbformat_minor": 2
}
